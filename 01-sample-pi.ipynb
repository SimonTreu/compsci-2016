{
 "cells": [
  {
   "cell_type": "markdown",
   "metadata": {},
   "source": [
    "# 01 - sample $\\pi$\n",
    "\n",
    "In this example, we will approximate $\\pi$ by direct Monte Carlo (MC) sampling."
   ]
  },
  {
   "cell_type": "code",
   "execution_count": 1,
   "metadata": {
    "collapsed": true
   },
   "outputs": [],
   "source": [
    "%matplotlib inline\n",
    "import matplotlib.pyplot as plt\n",
    "import numpy as np"
   ]
  },
  {
   "cell_type": "markdown",
   "metadata": {},
   "source": [
    "We define a function `sample_pi(n)` which computes\n",
    "\n",
    "$\\pi_{\\text{sampled}} = \\frac{4}{n} \\sum\\limits_{i=0}^{n-1} \\chi(x_i, y_i)$\n",
    "\n",
    "where\n",
    "\n",
    "$\\chi(x, y) = \\left\\{ \\begin{array}{rl}\n",
    "1, & x^2 + y^2 \\leq 1 \\\\\n",
    "0, & else\n",
    "\\end{array} \\right.$\n",
    "\n",
    "and $(x,y)$ are uniformaly distributed random numbers inside the unit square $[0,1]^2$."
   ]
  },
  {
   "cell_type": "code",
   "execution_count": 2,
   "metadata": {
    "collapsed": false
   },
   "outputs": [
    {
     "name": "stdout",
     "output_type": "stream",
     "text": [
      "Run 1: 3.12800\n",
      "Run 2: 3.13320\n",
      "Run 3: 3.13360\n",
      "Run 4: 3.14360\n",
      "Run 5: 3.14960\n"
     ]
    }
   ],
   "source": [
    "def sample_pi(n):\n",
    "    r\"\"\"\n",
    "    Perform a direct MC sampling to estimate :math:`\\pi`.\n",
    "    \n",
    "    Parameters\n",
    "    ----------\n",
    "    n : int\n",
    "        Number of samples.\n",
    "    \n",
    "    Returns\n",
    "    -------\n",
    "    float\n",
    "        Estimate of :math:`\\pi`.\n",
    "    \n",
    "    \"\"\"\n",
    "    r = np.linalg.norm(np.random.rand(n, 2), axis=1)\n",
    "    return 4.0 * np.sum((r <= 1.0)) / float(n)\n",
    "\n",
    "# run the code five times and print the results\n",
    "for i in range(5):\n",
    "    print(\"Run %d: %.5f\" % (i + 1, sample_pi(10000)))"
   ]
  },
  {
   "cell_type": "markdown",
   "metadata": {},
   "source": [
    "We further define a function `sample_dist(n, m=100)` which performs $m$ independent MC runs and returns the $\\pi$-estimates."
   ]
  },
  {
   "cell_type": "code",
   "execution_count": 3,
   "metadata": {
    "collapsed": false
   },
   "outputs": [
    {
     "data": {
      "image/png": "[encoded data removed]",
      "text/plain": [
       "<matplotlib.figure.Figure at 0x109f28910>"
      ]
     },
     "metadata": {},
     "output_type": "display_data"
    }
   ],
   "source": [
    "def sample_dist(n, m=100):\n",
    "    r\"\"\"\n",
    "    Perform a series of direct MC runs to sample multiple :math:`\\pi` estimates.\n",
    "    \n",
    "    Parameters\n",
    "    ----------\n",
    "    n : int\n",
    "        Number of samples in each MC run.\n",
    "    m : int, default=100\n",
    "        Number of MC runs.\n",
    "    \n",
    "    Returns\n",
    "    -------\n",
    "    numpy.ndarray(shape=(m,), dtype=numpy.float64)\n",
    "        Estimates of :math:`\\pi`\n",
    "    \n",
    "    \"\"\"\n",
    "    return np.asarray([sample_pi(n) for i in range(m)], dtype=np.float64)\n",
    "\n",
    "# generate a distribution of 10000 pi estimates and plot the distribution\n",
    "plt.hist(sample_dist(10000, m=10000), bins=50);"
   ]
  },
  {
   "cell_type": "markdown",
   "metadata": {},
   "source": [
    "Now, we start to experiment with these functions. We call `sample_dist(n)` for different choices of $n$ and compute mean values and standard deviations for each choice of n."
   ]
  },
  {
   "cell_type": "code",
   "execution_count": 4,
   "metadata": {
    "collapsed": true
   },
   "outputs": [],
   "source": [
    "nvals = [10, 100, 1000, 10000, 100000, 1000000]\n",
    "data = np.array([sample_dist(n) for n in nvals])\n",
    "\n",
    "data_mean = np.mean(data, axis=1)\n",
    "data_std = np.std(data, axis=1, ddof=1)"
   ]
  },
  {
   "cell_type": "markdown",
   "metadata": {},
   "source": [
    "Finally, we visualize our results."
   ]
  },
  {
   "cell_type": "code",
   "execution_count": 5,
   "metadata": {
    "collapsed": false
   },
   "outputs": [
    {
     "data": {
      "text/plain": [
       "<matplotlib.legend.Legend at 0x10fd1af90>"
      ]
     },
     "execution_count": 5,
     "metadata": {},
     "output_type": "execute_result"
    },
    {
     "data": {
      "image/png": "[encoded data removed]",
      "text/plain": [
       "<matplotlib.figure.Figure at 0x10c421dd0>"
      ]
     },
     "metadata": {},
     "output_type": "display_data"
    }
   ],
   "source": [
    "fig, ax = plt.subplots()\n",
    "ax.plot(\n",
    "    nvals, [np.pi] * len(nvals),\n",
    "    '-', label=r\"$\\pi$\", linewidth=2, color=\"black\")\n",
    "ax.fill_between(\n",
    "    nvals, data_mean - data_std, data_mean + data_std,\n",
    "    alpha=0.2, facecolor=\"blue\", label=r\"mean $\\pm$ std\")\n",
    "ax.fill_between(\n",
    "    nvals, np.percentile(data, 16, axis=1), np.percentile(data, 84, axis=1),\n",
    "    alpha=0.2, facecolor=\"red\", label=r\"16%-84%\")\n",
    "ax.plot(\n",
    "    nvals, data_mean,\n",
    "    '--s', label=\"mean\", linewidth=2, color=\"blue\")\n",
    "ax.plot(\n",
    "    nvals, np.median(data, axis=1),\n",
    "    '--o', label=\"median\", linewidth=2, color=\"red\")\n",
    "ax.semilogx()\n",
    "ax.set_xlabel(r\"$n$\", fontsize=15)\n",
    "ax.set_ylabel(r\"$\\pi_{sampled}$\", fontsize=15)\n",
    "ax.legend(loc=4, fancybox=True, framealpha=0.5)"
   ]
  },
  {
   "cell_type": "code",
   "execution_count": null,
   "metadata": {
    "collapsed": true
   },
   "outputs": [],
   "source": []
  }
 ],
 "metadata": {
  "kernelspec": {
   "display_name": "Python 2",
   "language": "python",
   "name": "python2"
  },
  "language_info": {
   "codemirror_mode": {
    "name": "ipython",
    "version": 2
   },
   "file_extension": ".py",
   "mimetype": "text/x-python",
   "name": "python",
   "nbconvert_exporter": "python",
   "pygments_lexer": "ipython2",
   "version": "2.7.12"
  }
 },
 "nbformat": 4,
 "nbformat_minor": 0
}
